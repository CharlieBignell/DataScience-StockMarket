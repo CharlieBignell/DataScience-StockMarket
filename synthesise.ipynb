{
 "cells": [
  {
   "cell_type": "code",
   "execution_count": null,
   "metadata": {},
   "outputs": [],
   "source": [
    "import pandas as pd\n",
    "import numpy as np\n",
    "import random\n",
    "import math\n",
    "import yfinance as yf\n",
    "pd.options.mode.chained_assignment = None  # default='warn'\n",
    "\n",
    "from pandas_datareader import data as web # Reads stock data \n",
    "from datetime import timedelta"
   ]
  },
  {
   "cell_type": "code",
   "execution_count": null,
   "metadata": {},
   "outputs": [],
   "source": [
    "# Get a valid pandas date\n",
    "def getDateFormat(day, month, year):\n",
    "    return pd.to_datetime(f\"{year}-{month}-{day}\")"
   ]
  },
  {
   "cell_type": "code",
   "execution_count": null,
   "metadata": {},
   "outputs": [],
   "source": [
    "# Default Variables\n",
    "startDate = getDateFormat(1, 1, 2010)\n",
    "endDate = pd.to_datetime(\"today\")\n",
    "endDate = endDate.replace(hour=0, minute=0, second=0, microsecond=0)\n",
    "\n",
    "depositAmount = 50000\n",
    "depositNo = 20\n",
    "\n",
    "buyNo = 400\n",
    "sellNo = 200\n",
    "\n",
    "maxSellPer = 0.2\n",
    "\n",
    "noisiness = 0.3\n",
    "\n",
    "# 2 of tech, food, fashion, energy, etfs, finance, health, service\n",
    "tickers = [\"AAPL\", \"GOOG\", \"GPS\", \"BRBY.L\", \"MCD\", \"K\", \"BP\", \"XOM\", \"SPY\", \"HUKX.L\", \"JPM\", \"BARC.L\", \"PFE\", \"JNJ\", \"UBER\", \"ABNB\"]"
   ]
  },
  {
   "cell_type": "code",
   "execution_count": null,
   "metadata": {},
   "outputs": [],
   "source": [
    "# Get user input"
   ]
  },
  {
   "cell_type": "code",
   "execution_count": null,
   "metadata": {},
   "outputs": [],
   "source": [
    "# Print paramaters\n",
    "startDate_format = startDate.strftime('%d/%m/%Y')\n",
    "endDate_format = endDate.strftime('%d/%m/%Y')\n",
    "months = ((endDate - startDate)/np.timedelta64(1, 'M'))\n",
    "\n",
    "length_years = int(months/12)\n",
    "length_months = int(months%12)\n",
    "print(\"Simulating investments from {0} to {1} ({2} year(s) and {3} month(s))\".format(startDate_format, endDate_format, length_years, length_months))\n",
    "\n",
    "meanDeposit = round(depositAmount/depositNo, 2)\n",
    "print(\"Simulating {0} deposits totalling £{1} for a mean deposit of £{2}\".format(depositNo, depositAmount, meanDeposit))\n",
    "\n",
    "print(\"Simulating {0} buys spread across the following {1} companies:\".format(buyNo, len(tickers)))\n",
    "print(tickers)\n",
    "print(\"Simulating {0} sells at no more than {1}% of the portfolio value per sell\".format(sellNo, int(maxSellPer*100)))"
   ]
  },
  {
   "cell_type": "code",
   "execution_count": null,
   "metadata": {},
   "outputs": [],
   "source": [
    "# Simulate deposits\n",
    "\n",
    "# Generate 'depositNo' random numbers (between 0 and 1) to represent each deposit\n",
    "randValues = [ random.random() for i in range(depositNo) ]\n",
    "\n",
    "# Convert these random floats to deposit values\n",
    "# sum(rand) will be ~ 1/2 of depositNo, and i will be ~0.5 on avg, leading to each value being centered on depositAmount/depositNo, which is what we want\n",
    "# But the use of floor() means the sum will be a little lower than depositAmount\n",
    "depositValues = [ math.floor(i * depositAmount / sum(randValues)) for i in randValues ] \n",
    "\n",
    "# Randomly add 1 to values until we reach depositAmount\n",
    "deficit = depositAmount - sum(depositValues)\n",
    "for i in range(deficit): \n",
    "    depositValues[random.randint(0, depositNo - 1)] += 1\n",
    "\n",
    "totalDays = ((endDate - startDate)/np.timedelta64(1, 'D'))\n",
    "\n",
    "# We don't want any deposits closer to today than 30 days, but this won't work if the total number of days is too small, so take the minimum between 30 and 1/4 of the total days\n",
    "days_limit = totalDays - min(int(totalDays/4), 30)\n",
    "\n",
    "# Generate list of random numbers (acting as days to add to the start date), then add them to generate the list of random dates\n",
    "randDays = [ random.randint(0, days_limit) for i in range(depositNo) ]\n",
    "depositDates = [ startDate + timedelta(days=r) for r in sorted(randDays) ]\n",
    "\n",
    "depositTypes = [\"Deposit\"] * depositNo\n",
    "\n",
    "df_other = pd.DataFrame({'Date': depositDates, 'Value': depositValues, 'Type': depositTypes})"
   ]
  },
  {
   "cell_type": "code",
   "execution_count": null,
   "metadata": {},
   "outputs": [],
   "source": [
    "# Simulate half the buys"
   ]
  },
  {
   "cell_type": "code",
   "execution_count": null,
   "metadata": {},
   "outputs": [],
   "source": [
    "# Simulate the sells"
   ]
  },
  {
   "cell_type": "code",
   "execution_count": null,
   "metadata": {},
   "outputs": [],
   "source": [
    "# Simulate the other half of buys"
   ]
  },
  {
   "cell_type": "code",
   "execution_count": null,
   "metadata": {},
   "outputs": [],
   "source": [
    "# Format and save data\n",
    "\n",
    "# Dividends are not being synthesised, so create an empty version\n",
    "df_dividend = pd.DataFrame(columns=['Date', 'Value', 'ISIN', 'Name'])\n",
    "\n",
    "# df_basic.to_csv('./cleaned/basic.csv', index=False)\n",
    "df_dividend.to_csv('./cleaned/synthetic/dividend.csv', index=False)\n",
    "df_other.to_csv('./cleaned/synthetic/other.csv', index=False)\n"
   ]
  }
 ],
 "metadata": {
  "interpreter": {
   "hash": "a4a9e946ce7c4b8d35badcf5a2498e69f24bdc9c87fade20a954672ebcd777e7"
  },
  "kernelspec": {
   "display_name": "Python 3.8.10 64-bit (windows store)",
   "name": "python3"
  },
  "language_info": {
   "codemirror_mode": {
    "name": "ipython",
    "version": 3
   },
   "file_extension": ".py",
   "mimetype": "text/x-python",
   "name": "python",
   "nbconvert_exporter": "python",
   "pygments_lexer": "ipython3",
   "version": "3.8.10"
  },
  "orig_nbformat": 4
 },
 "nbformat": 4,
 "nbformat_minor": 2
}
