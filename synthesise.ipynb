{
 "cells": [
  {
   "cell_type": "code",
   "execution_count": null,
   "metadata": {},
   "outputs": [],
   "source": [
    "import pandas as pd\n",
    "import numpy as np\n",
    "import random\n",
    "import math\n",
    "import yfinance as yf\n",
    "pd.options.mode.chained_assignment = None  # default='warn'\n",
    "\n",
    "from numpy.random import choice\n",
    "from pandas_datareader import data as web # Reads stock data \n",
    "from datetime import timedelta"
   ]
  },
  {
   "cell_type": "code",
   "execution_count": null,
   "metadata": {},
   "outputs": [],
   "source": [
    "# Get a valid pandas date\n",
    "def getDateFormat(day, month, year):\n",
    "    return pd.to_datetime(f\"{year}-{month}-{day}\")"
   ]
  },
  {
   "cell_type": "code",
   "execution_count": null,
   "metadata": {},
   "outputs": [],
   "source": [
    "# Default Variables\n",
    "startDate = getDateFormat(1, 1, 2010)\n",
    "endDate = pd.to_datetime(\"today\")\n",
    "endDate = endDate.replace(hour=0, minute=0, second=0, microsecond=0)\n",
    "\n",
    "depositAmount = 50000\n",
    "depositNo = 20\n",
    "\n",
    "fxRate = 1.35\n",
    "\n",
    "buyNo = 400\n",
    "\n",
    "# Range between 0-1 (min spend MUST be lower than maxSpend)\n",
    "# Higher = spend more per buy = more sells\n",
    "# Larger range = more noise\n",
    "minSpend = 0.1\n",
    "maxSpend = 0.3\n",
    "\n",
    "# Range between 0-1\n",
    "# The max % of the current portfolio value to sell\n",
    "maxSell = 0.1\n",
    "\n",
    "# 2 of tech, food, energy, etfs, finance, health\n",
    "tickers = [\"AAPL\", \"GOOG\", \"MCD\", \"K\", \"XOM\", \"PLUG\", \"SPY\", \"HUKX.L\", \"JPM\", \"BARC.L\", \"PFE\", \"JNJ\"]"
   ]
  },
  {
   "cell_type": "code",
   "execution_count": null,
   "metadata": {},
   "outputs": [],
   "source": [
    "# Get user input"
   ]
  },
  {
   "cell_type": "code",
   "execution_count": null,
   "metadata": {},
   "outputs": [],
   "source": [
    "# Print paramaters\n",
    "startDate_format = startDate.strftime('%d/%m/%Y')\n",
    "endDate_format = endDate.strftime('%d/%m/%Y')\n",
    "months = ((endDate - startDate)/np.timedelta64(1, 'M'))\n",
    "\n",
    "length_years = int(months/12)\n",
    "length_months = int(months%12)\n",
    "print(\"Simulating investments from {0} to {1} ({2} year(s) and {3} month(s))\".format(startDate_format, endDate_format, length_years, length_months))\n",
    "\n",
    "meanDeposit = round(depositAmount/depositNo, 2)\n",
    "print(\"Simulating {0} deposits totalling £{1} for a mean deposit of £{2}\".format(depositNo, depositAmount, meanDeposit))\n",
    "\n",
    "print(\"Simulating {0} buys spread across the following {1} companies:\".format(buyNo, len(tickers)))\n",
    "print(tickers)\n",
    "\n",
    "print(\"Assuming FX rate of £1 = ${0}\".format(fxRate))"
   ]
  },
  {
   "cell_type": "code",
   "execution_count": null,
   "metadata": {},
   "outputs": [],
   "source": [
    "# Import all closing prices for each ticker for the required date ranges\n",
    "df_closing_all = []\n",
    "\n",
    "for ticker in tickers:\n",
    "    df_closing_ticker = []\n",
    "    # Get the close prices for each day\n",
    "    df_closing_ticker = web.DataReader(ticker, 'yahoo', startDate, endDate)    \n",
    "\n",
    "    # Format the df\n",
    "    df_closing_ticker.drop(columns=[\"High\", \"Low\", \"Open\", \"Volume\", \"Adj Close\"], errors=\"ignore\", inplace=True)\n",
    "    df_closing_ticker[\"Name\"] = ticker\n",
    "\n",
    "    tickerCurrency = \"GBP\" if ticker[len(ticker) - 2] == \".\" else \"USD\"\n",
    "\n",
    "    # If it's USD, divide by the exchange rate for the relevant day\n",
    "    if tickerCurrency == \"USD\":\n",
    "        df_closing_ticker[\"Close\"] = df_closing_ticker[\"Close\"]/fxRate\n",
    "\n",
    "    # If it's GBp, divide by 100 to convert to £\n",
    "    elif tickerCurrency == \"GBP\":\n",
    "        df_closing_ticker[\"Close\"] = df_closing_ticker[\"Close\"]/100\n",
    "    else:\n",
    "        print(\"ERROR: Unidentified Currency - \", ticker)\n",
    "    \n",
    "    df_closing_all.append(df_closing_ticker.reset_index())\n",
    "\n",
    "# Concatenate all data\n",
    "df_closing_all = pd.concat(df_closing_all)"
   ]
  },
  {
   "cell_type": "code",
   "execution_count": null,
   "metadata": {},
   "outputs": [],
   "source": [
    "# Get a valid pandas date\n",
    "def getDateFormat(day, month, year):\n",
    "    return pd.to_datetime(f\"{year}-{month}-{day}\")"
   ]
  },
  {
   "cell_type": "code",
   "execution_count": null,
   "metadata": {},
   "outputs": [],
   "source": [
    "# Simulate deposits\n",
    "\n",
    "# Generate 'depositNo' random numbers (between 0 and 1) to represent each deposit\n",
    "randValues = [ random.random() for i in range(depositNo) ]\n",
    "\n",
    "# Convert these random floats to deposit values\n",
    "# sum(rand) will be ~ 1/2 of depositNo, and i will be ~0.5 on avg, leading to the sum of all values being close to depositAmount\n",
    "# But the use of floor() means the sum will be a little lower than depositAmount\n",
    "depositValues = [ math.floor(i * depositAmount / sum(randValues)) for i in randValues ]\n",
    "\n",
    "# Randomly add 1 to values until we reach depositAmount\n",
    "deficit = depositAmount - sum(depositValues)\n",
    "for i in range(deficit): \n",
    "    depositValues[random.randint(0, depositNo - 1)] += 1\n",
    "\n",
    "# We don't want any deposits closer to today than 30 days, but this won't work if the total number of days is too small, so take the minimum between 30 and 1/4 of the total days\\n\",\n",
    "totalDays = ((endDate - startDate)/np.timedelta64(1, 'D'))\n",
    "days_limit = totalDays - min(int(totalDays/4), 30)\n",
    "\n",
    "# Generate list of random numbers (acting as days to add to the start date), then add them to generate the list of random dates\n",
    "randDays = [ random.randint(0, days_limit) for i in range(depositNo - 1) ]\n",
    "depositDates = [ startDate + timedelta(days=r) for r in sorted(randDays) ]\n",
    "depositDates.append(startDate)\n",
    "depositTypes = [\"Deposit\"] * depositNo\n",
    "\n",
    "df_other = pd.DataFrame({'Date': depositDates, 'Value': depositValues, 'Type': depositTypes})"
   ]
  },
  {
   "cell_type": "code",
   "execution_count": null,
   "metadata": {},
   "outputs": [],
   "source": [
    "def getValue(date):\n",
    "    df_depositsInRange = df_other.loc[df_other[\"Type\"] == \"Deposit\", [\"Date\", \"Value\"]]\n",
    "    df_depositsInRange = df_depositsInRange.loc[df_depositsInRange[\"Date\"] <= date]\n",
    "    return df_depositsInRange[\"Value\"].sum()"
   ]
  },
  {
   "cell_type": "code",
   "execution_count": null,
   "metadata": {},
   "outputs": [],
   "source": [
    "def generateSell(portfolio, date):\n",
    "    return [\"Tick\", \"Sharecount\", 200, \"Fx\", \"Currency\"]"
   ]
  },
  {
   "cell_type": "code",
   "execution_count": null,
   "metadata": {},
   "outputs": [],
   "source": [
    "def generateBuy(date, value):\n",
    "    return [\"Tick\", \"Sharecount\", \"Fx\", \"Currency\"]"
   ]
  },
  {
   "cell_type": "code",
   "execution_count": null,
   "metadata": {},
   "outputs": [],
   "source": [
    "# Simulate buys and sells\n",
    "\n",
    "firstDeposit = df_other[\"Date\"].min()\n",
    "totalDays = ((endDate - firstDeposit)/np.timedelta64(1, 'D'))\n",
    "randDays = [ random.randint(0, totalDays) for i in range(buyNo) ]\n",
    "buyDates = [ firstDeposit + timedelta(days=r) for r in sorted(randDays) ]\n",
    "\n",
    "basic_values, basic_types, basic_tickers, basic_dates, basic_shareCount, basic_fx, basic_currency= [], [], [], [], [], [], []\n",
    "\n",
    "for i in range(buyNo - 1):\n",
    "    buyDate = buyDates[i]\n",
    "\n",
    "    # The amount of money in the bank\n",
    "    currentBalance = getValue(buyDate) + sum(basic_values)\n",
    "\n",
    "    # If we have less than £10 in the bank, sell something\n",
    "    if currentBalance < 10:\n",
    "        print(\"SELL!\")\n",
    "        # Add the sell to the day before, so we have the money to buy today\n",
    "        sellDate = buyDate - timedelta(days=1)\n",
    "\n",
    "        portfolio = [\"test\"]\n",
    "\n",
    "        sell = generateSell(portfolio, sellDate)\n",
    "        # Re-calculate the current balance\n",
    "        currentBalance = getValue(buyDate) + sum(basic_values) \n",
    "\n",
    "        # Append the values to the lists\n",
    "        basic_values.append(sell[2])\n",
    "        basic_types.append(\"SELL\")\n",
    "        basic_tickers.append(sell[0])\n",
    "        basic_dates.append(sellDate)\n",
    "        basic_shareCount.append(sell[1])\n",
    "        basic_fx.append(sell[3])\n",
    "        basic_currency.append(sell[4])\n",
    "\n",
    " \n",
    "    buyValue = random.randint(math.floor(currentBalance*minSpend), math.ceil(currentBalance*maxSpend)) \n",
    "    buy = generateBuy(buyDate, buyValue)\n",
    "    \n",
    "    basic_values.append(-buyValue)\n",
    "    basic_types.append(\"Buy\")\n",
    "    basic_tickers.append(buy[0])\n",
    "    basic_dates.append(buyDate)\n",
    "    basic_shareCount.append(buy[1])\n",
    "    basic_fx.append(buy[2])\n",
    "    basic_currency.append(buy[3])\n",
    "\n",
    "# Generate the last buy to use up the remaining balance\n",
    "lastBuyDate = buyDates[len(buyDates) - 1]\n",
    "currentBalance = getValue(lastBuyDate) + sum(basic_values) \n",
    "buy = generateBuy(lastBuyDate, currentBalance)\n",
    "\n",
    "basic_values.append(-currentBalance)\n",
    "basic_types.append(\"Buy\")\n",
    "basic_tickers.append(buy[0])\n",
    "basic_dates.append(buyDate)\n",
    "basic_shareCount.append(buy[1])\n",
    "basic_fx.append(buy[2])\n",
    "basic_currency.append(buy[3])\n",
    "\n",
    "df_basic = pd.DataFrame({\n",
    "    'Date': basic_dates, \n",
    "    'Value': basic_values, \n",
    "    'Type': basic_types, \n",
    "    'ShareCount': basic_shareCount, \n",
    "    'FXRate': basic_fx, \n",
    "    'Name': basic_tickers, \n",
    "    'Currency': basic_currency\n",
    "})\n",
    "\n",
    "print(df_basic)\n",
    "print(df_other)\n",
    "    "
   ]
  },
  {
   "cell_type": "code",
   "execution_count": null,
   "metadata": {},
   "outputs": [],
   "source": [
    "# Format and save data\n",
    "\n",
    "# Dividends are not being synthesised, so create an empty version\n",
    "df_dividend = pd.DataFrame(columns=['Date', 'Value', 'Name'])\n",
    "\n",
    "df_basic.to_csv('./cleaned/basic.csv', index=False)\n",
    "df_dividend.to_csv('./cleaned/synthetic/dividend.csv', index=False)\n",
    "df_other.to_csv('./cleaned/synthetic/other.csv', index=False)\n"
   ]
  }
 ],
 "metadata": {
  "interpreter": {
   "hash": "a4a9e946ce7c4b8d35badcf5a2498e69f24bdc9c87fade20a954672ebcd777e7"
  },
  "kernelspec": {
   "display_name": "Python 3.8.10 64-bit (windows store)",
   "name": "python3"
  },
  "language_info": {
   "codemirror_mode": {
    "name": "ipython",
    "version": 3
   },
   "file_extension": ".py",
   "mimetype": "text/x-python",
   "name": "python",
   "nbconvert_exporter": "python",
   "pygments_lexer": "ipython3",
   "version": "3.8.10"
  },
  "orig_nbformat": 4
 },
 "nbformat": 4,
 "nbformat_minor": 2
}
