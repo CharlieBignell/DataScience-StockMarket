{
 "cells": [
  {
   "cell_type": "code",
   "execution_count": 175,
   "metadata": {},
   "outputs": [],
   "source": [
    "import pandas as pd\n",
    "import numpy as np\n",
    "import yfinance as yf\n",
    "pd.options.mode.chained_assignment = None  # default='warn'\n",
    "\n",
    "from pandas_datareader import data as web # Reads stock data \n",
    "from datetime import timedelta"
   ]
  },
  {
   "cell_type": "code",
   "execution_count": 176,
   "metadata": {},
   "outputs": [],
   "source": [
    "# Get a valid pandas date\n",
    "def getDateFormat(day, month, year):\n",
    "    return pd.to_datetime(f\"{year}-{month}-{day}\")"
   ]
  },
  {
   "cell_type": "code",
   "execution_count": 177,
   "metadata": {},
   "outputs": [],
   "source": [
    "# Default Variables\n",
    "startDate = getDateFormat(1, 1, 2010)\n",
    "endDate = pd.to_datetime(\"today\")\n",
    "endDate = endDate.replace(hour=0, minute=0, second=0, microsecond=0)\n",
    "\n",
    "depositAmount = 50000\n",
    "depositNo = 20\n",
    "\n",
    "buyNo = 400\n",
    "sellNo = 200\n",
    "\n",
    "maxSellPer = 0.2\n",
    "\n",
    "# 2 of tech, food, fashion, energy, etfs, finance, health, service\n",
    "tickers = [\"AAPL\", \"GOOG\", \"GPS\", \"BRBY.L\", \"MCD\", \"K\", \"BP\", \"XOM\", \"SPY\", \"HUKX.L\", \"JPM\", \"BARC.L\", \"PFE\", \"JNJ\", \"UBER\", \"ABNB\"]"
   ]
  },
  {
   "cell_type": "code",
   "execution_count": 178,
   "metadata": {},
   "outputs": [],
   "source": [
    "# Get user input"
   ]
  },
  {
   "cell_type": "code",
   "execution_count": 179,
   "metadata": {},
   "outputs": [
    {
     "name": "stdout",
     "output_type": "stream",
     "text": [
      "Simulating investments from 01/01/2010 to 03/11/2021 (11 year(s) and 10 month(s))\n",
      "Simulating 20 deposits totalling £50000 for a mean deposit of £2500.0\n",
      "Simulating 400 buys spread across the following 16 companies:\n",
      "['AAPL', 'GOOG', 'GPS', 'BRBY.L', 'MCD', 'K', 'BP', 'XOM', 'SPY', 'HUKX.L', 'JPM', 'BARC.L', 'PFE', 'JNJ', 'UBER', 'ABNB']\n",
      "Simulating 200 sells at no more than 20% of the portfolio value per sell\n"
     ]
    }
   ],
   "source": [
    "# Print paramaters\n",
    "startDate_format = startDate.strftime('%d/%m/%Y')\n",
    "endDate_format = endDate.strftime('%d/%m/%Y')\n",
    "months = ((endDate - startDate)/np.timedelta64(1, 'M'))\n",
    "\n",
    "length_years = int(months/12)\n",
    "length_months = int(months%12)\n",
    "print(\"Simulating investments from {0} to {1} ({2} year(s) and {3} month(s))\".format(startDate_format, endDate_format, length_years, length_months))\n",
    "\n",
    "meanDeposit = round(depositAmount/depositNo, 2)\n",
    "print(\"Simulating {0} deposits totalling £{1} for a mean deposit of £{2}\".format(depositNo, depositAmount, meanDeposit))\n",
    "\n",
    "print(\"Simulating {0} buys spread across the following {1} companies:\".format(buyNo, len(tickers)))\n",
    "print(tickers)\n",
    "print(\"Simulating {0} sells at no more than {1}% of the portfolio value per sell\".format(sellNo, int(maxSellPer*100)))"
   ]
  },
  {
   "cell_type": "code",
   "execution_count": null,
   "metadata": {},
   "outputs": [],
   "source": [
    "# Simulate deposits"
   ]
  },
  {
   "cell_type": "code",
   "execution_count": null,
   "metadata": {},
   "outputs": [],
   "source": [
    "# Simulate half the buys"
   ]
  },
  {
   "cell_type": "code",
   "execution_count": null,
   "metadata": {},
   "outputs": [],
   "source": [
    "# Simulate the sells"
   ]
  },
  {
   "cell_type": "code",
   "execution_count": null,
   "metadata": {},
   "outputs": [],
   "source": [
    "# Simulate the other half of buys"
   ]
  },
  {
   "cell_type": "code",
   "execution_count": null,
   "metadata": {},
   "outputs": [],
   "source": [
    "# Format and save data"
   ]
  }
 ],
 "metadata": {
  "interpreter": {
   "hash": "a4a9e946ce7c4b8d35badcf5a2498e69f24bdc9c87fade20a954672ebcd777e7"
  },
  "kernelspec": {
   "display_name": "Python 3.8.10 64-bit (windows store)",
   "name": "python3"
  },
  "language_info": {
   "codemirror_mode": {
    "name": "ipython",
    "version": 3
   },
   "file_extension": ".py",
   "mimetype": "text/x-python",
   "name": "python",
   "nbconvert_exporter": "python",
   "pygments_lexer": "ipython3",
   "version": "3.8.10"
  },
  "orig_nbformat": 4
 },
 "nbformat": 4,
 "nbformat_minor": 2
}
