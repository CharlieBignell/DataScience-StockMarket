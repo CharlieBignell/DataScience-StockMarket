{
 "cells": [
  {
   "cell_type": "code",
   "execution_count": null,
   "metadata": {},
   "outputs": [],
   "source": [
    "import pandas as pd\n",
    "import numpy as np\n",
    "import random\n",
    "import math\n",
    "import yfinance as yf\n",
    "pd.options.mode.chained_assignment = None  # default='warn'\n",
    "\n",
    "from pandas_datareader import data as web # Reads stock data \n",
    "from datetime import timedelta"
   ]
  },
  {
   "cell_type": "code",
   "execution_count": null,
   "metadata": {},
   "outputs": [],
   "source": [
    "# Get a valid pandas date\n",
    "def getDateFormat(day, month, year):\n",
    "    return pd.to_datetime(f\"{year}-{month}-{day}\")"
   ]
  },
  {
   "cell_type": "code",
   "execution_count": null,
   "metadata": {},
   "outputs": [],
   "source": [
    "# Default Variables\n",
    "startDate = getDateFormat(1, 1, 2010)\n",
    "endDate = pd.to_datetime(\"today\")\n",
    "endDate = endDate.replace(hour=0, minute=0, second=0, microsecond=0)\n",
    "\n",
    "depositAmount = 50000\n",
    "depositNo = 20\n",
    "\n",
    "fxRate = 1.35\n",
    "\n",
    "buyNo = 400\n",
    "sellNo = 200\n",
    "\n",
    "maxSellPer = 0.2\n",
    "\n",
    "noisiness = 0.3\n",
    "\n",
    "# 2 of tech, food, energy, etfs, finance, health\n",
    "tickers = [\"AAPL\", \"GOOG\", \"MCD\", \"K\", \"XOM\", \"PLUG\", \"SPY\", \"HUKX.L\", \"JPM\", \"BARC.L\", \"PFE\", \"JNJ\"]"
   ]
  },
  {
   "cell_type": "code",
   "execution_count": null,
   "metadata": {},
   "outputs": [],
   "source": [
    "# Get user input"
   ]
  },
  {
   "cell_type": "code",
   "execution_count": null,
   "metadata": {},
   "outputs": [],
   "source": [
    "# Print paramaters\n",
    "startDate_format = startDate.strftime('%d/%m/%Y')\n",
    "endDate_format = endDate.strftime('%d/%m/%Y')\n",
    "months = ((endDate - startDate)/np.timedelta64(1, 'M'))\n",
    "\n",
    "length_years = int(months/12)\n",
    "length_months = int(months%12)\n",
    "print(\"Simulating investments from {0} to {1} ({2} year(s) and {3} month(s))\".format(startDate_format, endDate_format, length_years, length_months))\n",
    "\n",
    "meanDeposit = round(depositAmount/depositNo, 2)\n",
    "print(\"Simulating {0} deposits totalling £{1} for a mean deposit of £{2}\".format(depositNo, depositAmount, meanDeposit))\n",
    "\n",
    "print(\"Simulating {0} buys spread across the following {1} companies:\".format(buyNo, len(tickers)))\n",
    "print(tickers)\n",
    "print(\"Simulating {0} sells at no more than {1}% of the portfolio value per sell\".format(sellNo, int(maxSellPer*100)))\n",
    "\n",
    "print(\"Assuming FX rate of £1 = ${0}\".format(fxRate))"
   ]
  },
  {
   "cell_type": "code",
   "execution_count": 28,
   "metadata": {},
   "outputs": [],
   "source": [
    "# Simulate deposits\n",
    "\n",
    "# Generate 'depositNo' random numbers (between 0 and 1) to represent each deposit\n",
    "randValues = [ random.random() for i in range(depositNo) ]\n",
    "\n",
    "# Convert these random floats to deposit values\n",
    "# sum(rand) will be ~ 1/2 of depositNo, and i will be ~0.5 on avg, leading to the sum of all values being close to depositAmount\n",
    "# But the use of floor() means the sum will be a little lower than depositAmount\n",
    "depositValues = [ math.floor(i * depositAmount / sum(randValues)) for i in randValues ] \n",
    "\n",
    "# Randomly add 1 to values until we reach depositAmount\n",
    "deficit = depositAmount - sum(depositValues)\n",
    "for i in range(deficit): \n",
    "    depositValues[random.randint(0, depositNo - 1)] += 1\n",
    "\n",
    "# We don't want any deposits closer to today than 30 days, but this won't work if the total number of days is too small, so take the minimum between 30 and 1/4 of the total days\n",
    "totalDays = ((endDate - startDate)/np.timedelta64(1, 'D'))\n",
    "days_limit = totalDays - min(int(totalDays/4), 30)\n",
    "\n",
    "# Generate list of random numbers (acting as days to add to the start date), then add them to generate the list of random dates\n",
    "randDays = [ random.randint(0, days_limit) for i in range(depositNo - 1) ]\n",
    "depositDates = [ startDate + timedelta(days=r) for r in sorted(randDays) ]\n",
    "depositDates.append(startDate)\n",
    "\n",
    "depositTypes = [\"Deposit\"] * depositNo\n",
    "\n",
    "df_other = pd.DataFrame({'Date': depositDates, 'Value': depositValues, 'Type': depositTypes})"
   ]
  },
  {
   "cell_type": "code",
   "execution_count": 29,
   "metadata": {},
   "outputs": [],
   "source": [
    "# Import all closing prices for each ticker for the required date ranges\n",
    "df_closing_all = []\n",
    "\n",
    "for ticker in tickers:\n",
    "    df_closing_ticker = []\n",
    "    # Get the close prices for each day\n",
    "    df_closing_ticker = web.DataReader(ticker, 'yahoo', startDate, endDate)    \n",
    "\n",
    "    # Format the df\n",
    "    df_closing_ticker.drop(columns=[\"High\", \"Low\", \"Open\", \"Volume\", \"Adj Close\"], errors=\"ignore\", inplace=True)\n",
    "    df_closing_ticker[\"Name\"] = ticker\n",
    "\n",
    "    tickerCurrency = \"GBP\" if ticker[len(ticker) - 2] == \".\" else \"USD\"\n",
    "\n",
    "    # If it's USD, divide by the exchange rate for the relevant day\n",
    "    if tickerCurrency == \"USD\":\n",
    "        df_closing_ticker[\"Close\"] = df_closing_ticker[\"Close\"]/fxRate\n",
    "\n",
    "    # If it's GBp, divide by 100 to convert to £\n",
    "    elif tickerCurrency == \"GBP\":\n",
    "        df_closing_ticker[\"Close\"] = df_closing_ticker[\"Close\"]/100\n",
    "    else:\n",
    "        print(\"ERROR: Unidentified Currency - \", ticker)\n",
    "    \n",
    "    df_closing_all.append(df_closing_ticker.reset_index())\n",
    "\n",
    "# Concatenate all data\n",
    "df_closing_all = pd.concat(df_closing_all)"
   ]
  },
  {
   "cell_type": "code",
   "execution_count": null,
   "metadata": {},
   "outputs": [],
   "source": [
    "# Get a valid pandas date\n",
    "def getDateFormat(day, month, year):\n",
    "    return pd.to_datetime(f\"{year}-{month}-{day}\")"
   ]
  },
  {
   "cell_type": "code",
   "execution_count": null,
   "metadata": {},
   "outputs": [],
   "source": [
    "def getValue(date):\n",
    "    df_depositsInRange = df_other.loc[df_other[\"Type\"] == \"Deposit\", [\"Date\", \"Value\"]]\n",
    "    df_depositsInRange = df_depositsInRange.loc[df_depositsInRange[\"Date\"] <= date]\n",
    "    return df_depositsInRange[\"Value\"].sum()"
   ]
  },
  {
   "cell_type": "code",
   "execution_count": 46,
   "metadata": {},
   "outputs": [],
   "source": [
    "# Simulate half the buys\n",
    "def simulateBuys(buyNo, money):\n",
    "\n",
    "    # Generate dates\n",
    "    totalDays = ((endDate - startDate)/np.timedelta64(1, 'D'))\n",
    "    randDays = [ random.randint(0, totalDays) for i in range(buyNo) ]\n",
    "    buyDates = [ startDate + timedelta(days=r) for r in sorted(randDays) ]\n",
    "\n",
    "    randValues = [ random.random() for i in range(0, buyNo) ]\n",
    "    buyValues = [ -math.floor(i * money / sum(randValues)) for i in randValues ] \n",
    "\n",
    "    # Generate tickers\n",
    "    buyTickers = random.choices(tickers, k=buyNo)\n",
    "\n",
    "    # Calculate shareCount and fill types, fx and currencies\n",
    "    buyShareCounts = []\n",
    "    buyTypes = []\n",
    "    buyFx = []\n",
    "    buyCurrencies = []\n",
    "\n",
    "    spentSum = 0\n",
    "\n",
    "    for i in range(buyNo):\n",
    "        ticker = buyTickers[i]\n",
    "        date = buyDates[i]\n",
    "        \n",
    "        value = -buyValues[i]\n",
    "\n",
    "        if value == 0:\n",
    "            value = 10\n",
    "\n",
    "        if value > (getValue(date) - spentSum):\n",
    "            print(\"want to spend\", value, \"but we only have\", (getValue(date) - spentSum), \"spending\", int((getValue(date) - spentSum)/2), \"instead\")\n",
    "            value = int((getValue(date) - spentSum)/2)\n",
    "            if value <= 1:\n",
    "                print(\"PANIC\")\n",
    "            buyValues[i] = -value\n",
    "\n",
    "        spentSum += value\n",
    "\n",
    "        # Get prioce in £\n",
    "        price = df_closing_all.loc[(df_closing_all[\"Date\"] == date) & (df_closing_all[\"Name\"] == ticker)][\"Close\"]\n",
    "\n",
    "        # If price = 0, get previous day. Repeat until price != 0\n",
    "        dayCounter = 1\n",
    "        while len(price) == 0:\n",
    "            date = date - timedelta(days=dayCounter)\n",
    "            price = df_closing_all.loc[(df_closing_all[\"Date\"] == date) & (df_closing_all[\"Name\"] == ticker)][\"Close\"]\n",
    "            dayCounter += 1\n",
    "\n",
    "        buyShareCounts.append(price.values[0]/value)\n",
    "\n",
    "        buyTypes.append(\"BUY\")\n",
    "        tickerCurrency = \"GBP\" if ticker[len(ticker) - 2] == \".\" else \"USD\"\n",
    "        \n",
    "        if tickerCurrency == \"GBP\":\n",
    "            buyFx.append(1)\n",
    "            buyCurrencies.append(\"GBP\")\n",
    "        else:\n",
    "            buyFx.append(fxRate)\n",
    "            buyCurrencies.append(\"USD\")\n",
    "            \n",
    "    return pd.DataFrame(list(zip(buyDates, buyTypes, buyValues, buyShareCounts, buyFx, buyTickers, buyCurrencies)),columns =['Date','Type','Value','ShareCount','FXRate','Name','Currency'])"
   ]
  },
  {
   "cell_type": "code",
   "execution_count": 52,
   "metadata": {},
   "outputs": [
    {
     "name": "stdout",
     "output_type": "stream",
     "text": [
      "want to spend 217 but we only have 170 spending 85 instead\n"
     ]
    }
   ],
   "source": [
    "# Simulate buys and sells\n",
    "initialBuy_no = int(buyNo/2)\n",
    "initialBuy_amount = int(depositAmount/2)\n",
    "\n",
    "buys_firstHalf = simulateBuys(initialBuy_no, initialBuy_amount)\n",
    "\n",
    "buys_secondHalf = simulateBuys(buyNo - initialBuy_no, depositAmount - initialBuy_amount)\n",
    "buys_total = pd.concat([buys_firstHalf, buys_secondHalf])"
   ]
  },
  {
   "cell_type": "code",
   "execution_count": 53,
   "metadata": {},
   "outputs": [],
   "source": [
    "# Format and save data\n",
    "\n",
    "# Dividends are not being synthesised, so create an empty version\n",
    "df_dividend = pd.DataFrame(columns=['Date', 'Value', 'Name'])\n",
    "\n",
    "# df_basic.to_csv('./cleaned/basic.csv', index=False)\n",
    "df_dividend.to_csv('./cleaned/synthetic/dividend.csv', index=False)\n",
    "df_other.to_csv('./cleaned/synthetic/other.csv', index=False)\n",
    "buys_total.to_csv('./cleaned/synthetic/basic.csv', index=False)\n"
   ]
  }
 ],
 "metadata": {
  "interpreter": {
   "hash": "a4a9e946ce7c4b8d35badcf5a2498e69f24bdc9c87fade20a954672ebcd777e7"
  },
  "kernelspec": {
   "display_name": "Python 3.8.10 64-bit (windows store)",
   "name": "python3"
  },
  "language_info": {
   "codemirror_mode": {
    "name": "ipython",
    "version": 3
   },
   "file_extension": ".py",
   "mimetype": "text/x-python",
   "name": "python",
   "nbconvert_exporter": "python",
   "pygments_lexer": "ipython3",
   "version": "3.8.10"
  },
  "orig_nbformat": 4
 },
 "nbformat": 4,
 "nbformat_minor": 2
}
