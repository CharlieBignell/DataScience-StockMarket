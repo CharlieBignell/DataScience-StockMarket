{
 "cells": [
  {
   "cell_type": "code",
   "execution_count": 1,
   "metadata": {},
   "outputs": [],
   "source": [
    "import pandas as pd\n",
    "\n",
    "# transactions_raw columns:\n",
    "# Value Date: date of transaction\n",
    "# Type: type of transaction e.g. deposit, buy, sell, etc.\n",
    "# Details: text explanation of transaction e.g. '1.5 Tesla Motors Inc (US88160R1014) @ USD 615.10000 (@ 1 USD = 1.38887 GBP) on 04-Mar-2021 20:30:26'\n",
    "# Value: the amount bought/sold/given in GBP. It's signed i.e. outgoings are negative\n",
    "\n",
    "# Read data and format the date column\n",
    "df_tran = pd.read_csv('./inputs/transactions_raw.csv')\n",
    "df_tran.rename(columns={'Value Date': 'Date'}, inplace=True)\n",
    "df_tran['Date'] = pd.to_datetime(df_tran['Date'], format=\"%d/%m/%Y\")"
   ]
  },
  {
   "cell_type": "code",
   "execution_count": 2,
   "metadata": {},
   "outputs": [],
   "source": [
    "\n",
    "# Get all buys and sells in a single dataframe\n",
    "df_basic = df_tran.loc[(df_tran[\"Type\"] == \"BUY\") | (df_tran[\"Type\"] == \"SELL\"), [\"Date\", \"Type\", \"Details\", \"Value\"]]\n",
    "\n",
    "# Use regular expressions to extract the different components of from the 'details' column\n",
    "df_basic[\"ShareCount\"] = df_basic[\"Details\"].str.extract(r'(^\\d+[.]\\d+|^\\d+[^\\\\])')\n",
    "df_basic[\"FXRate\"] = df_basic[\"Details\"].str.extract(r'(\\(@.+?\\))')\n",
    "df_basic[\"Name\"] = df_basic[\"Details\"].str.extract(r'(.+(?= \\([A-Z]{2}[A-Z0-9]{9}[0-9]{1}))')\n",
    "\n",
    "# 'name' still contains the share count which we need to remove\n",
    "def removeShareCount(string):\n",
    "    return \" \".join(string.split()[1:])\n",
    "df_basic[\"Name\"] = df_basic[\"Name\"].apply(removeShareCount)\n",
    "\n",
    "df_basic[\"Currency\"] = df_basic[\"FXRate\"].str.extract(r'([A-Z]+(?=\\)))')\n",
    "df_basic[\"FXRate\"] = df_basic[\"FXRate\"].str.extract(r'(= \\d+.\\d+)')\n",
    "df_basic[\"FXRate\"] = df_basic[\"FXRate\"].str[2:]\n",
    "df_basic.loc[df_basic[\"FXRate\"].isnull(), 'FXRate'] = \"1\"\n",
    "df_basic.loc[df_basic[\"Currency\"].isnull(), 'Currency'] = \"GBP\"\n",
    "\n",
    "# Now that we've extracted all we need, drop the 'Details' column\n",
    "df_basic.drop(columns=[\"Details\"], inplace=True)\n",
    "\n",
    "# Convert numeric columns\n",
    "df_basic[[\"ShareCount\", \"Value\", \"FXRate\"]] = df_basic[[\"ShareCount\", \"Value\", \"FXRate\"]].apply(pd.to_numeric)"
   ]
  },
  {
   "cell_type": "code",
   "execution_count": 3,
   "metadata": {},
   "outputs": [],
   "source": [
    "# Get all dividends in a single dataframe\n",
    "df_dividend = df_tran.loc[df_tran[\"Type\"] == \"INVESTMENT_INCOME\", [\"Date\", \"Details\", \"Value\"]]\n",
    "df_dividend[\"Name\"] = df_dividend[\"Details\"].str.extract(r'(m .+(?= \\([A-Z]{2}[A-Z0-9]{9}[0-9]{1}))')\n",
    "df_dividend[\"Name\"] = df_dividend[\"Name\"].apply(removeShareCount)\n",
    "df_dividend.drop(columns=[\"Details\"], inplace=True)"
   ]
  },
  {
   "cell_type": "code",
   "execution_count": 4,
   "metadata": {},
   "outputs": [],
   "source": [
    "# Put the remaning activity in a separate dataframe. The value of each transaction here tends to be very small\n",
    "df_interest = df_tran.loc[df_tran[\"Type\"] == \"INTEREST\", [\"Date\", \"Value\"]]\n",
    "df_fx = df_tran.loc[df_tran[\"Type\"] == \"FX_FEE\", [\"Date\", \"Value\"]]\n",
    "df_stamp = df_tran.loc[df_tran[\"Type\"] == \"STAMP_DUTY\", [\"Date\", \"Value\"]]\n",
    "df_deposit = df_tran.loc[df_tran[\"Type\"] == \"DEPOSIT\", [\"Date\", \"Value\"]]\n",
    "\n",
    "df_stamp[\"Type\"] = \"Stamp Duty\"\n",
    "df_interest[\"Type\"] = \"Interest\"\n",
    "df_fx[\"Type\"] = \"FX Fee\"\n",
    "df_deposit[\"Type\"] = \"Deposit\"\n",
    "\n",
    "df_other = pd.concat([df_stamp, df_interest, df_fx, df_deposit])\n",
    "df_other = df_other.reset_index(drop=True)"
   ]
  },
  {
   "cell_type": "code",
   "execution_count": 5,
   "metadata": {},
   "outputs": [],
   "source": [
    "# Output dataframes to CSV\n",
    "df_basic.to_csv('./cleaned/basic.csv', index=False)\n",
    "df_dividend.to_csv('./cleaned/dividend.csv', index=False)\n",
    "df_other.to_csv('./cleaned/other.csv', index=False)"
   ]
  }
 ],
 "metadata": {
  "interpreter": {
   "hash": "a4a9e946ce7c4b8d35badcf5a2498e69f24bdc9c87fade20a954672ebcd777e7"
  },
  "kernelspec": {
   "display_name": "Python 3.8.10 64-bit (windows store)",
   "name": "python3"
  },
  "language_info": {
   "codemirror_mode": {
    "name": "ipython",
    "version": 3
   },
   "file_extension": ".py",
   "mimetype": "text/x-python",
   "name": "python",
   "nbconvert_exporter": "python",
   "pygments_lexer": "ipython3",
   "version": "3.8.10"
  },
  "orig_nbformat": 4
 },
 "nbformat": 4,
 "nbformat_minor": 2
}
