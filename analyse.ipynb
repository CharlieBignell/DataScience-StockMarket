{
 "cells": [
  {
   "cell_type": "code",
   "execution_count": 589,
   "metadata": {},
   "outputs": [],
   "source": [
    "import pandas as pd\n",
    "import numpy as np\n",
    "import yfinance as yf\n",
    "\n",
    "from pandas_datareader import data as web # Reads stock data \n",
    "# import matplotlib.pyplot as plt # Plotting\n",
    "# import matplotlib.dates as mdates # Styling dates\n",
    "# import mplfinance as mpf # Matplotlib finance\n",
    "import datetime as dt\n",
    "from datetime import timedelta\n",
    "\n",
    "# Get the data\n",
    "df_basic = pd.read_csv('./cleaned/basic.csv')\n",
    "df_other = pd.read_csv('./cleaned/other.csv')\n",
    "df_dividend = pd.read_csv('./cleaned/dividend.csv')"
   ]
  },
  {
   "cell_type": "code",
   "execution_count": 590,
   "metadata": {},
   "outputs": [],
   "source": [
    "# Format date fields\n",
    "df_basic['Date'] = pd.to_datetime(df_basic['Date'])\n",
    "df_other['Date'] = pd.to_datetime(df_other['Date'])\n",
    "df_dividend['Date'] = pd.to_datetime(df_dividend['Date'])"
   ]
  },
  {
   "cell_type": "code",
   "execution_count": 591,
   "metadata": {},
   "outputs": [],
   "source": [
    "# Account for stock splits\n",
    "\n",
    "tickers_all = df_basic['Name'].unique()\n",
    "allSplits = []\n",
    "\n",
    "for ticker in tickers_all:\n",
    "\n",
    "    # Get the split and convert to a df\n",
    "    splits = yf.Ticker(ticker).splits\n",
    "    df_split = pd.DataFrame({'Date':splits.index, 'Split':splits.values})\n",
    "    df_split[\"Name\"] = ticker\n",
    "\n",
    "    # If there was a split, append the df to allSplits. The ignoring of PFE is a quirk with a spin off they did with Viatris in 2020. This is a bad fix but it'll do for now\n",
    "    if len(df_split.index) != 0 and ticker != \"PFE\":\n",
    "        allSplits.append(df_split)\n",
    "\n",
    "allSplits = pd.concat(allSplits)\n",
    "\n",
    "# Iterate through splits and alter share counts as necessary\n",
    "for index, row in allSplits.iterrows():\n",
    "    df_basic.loc[(df_basic[\"Name\"] == row[\"Name\"]) & (df_basic[\"Date\"] < row[\"Date\"]), [\"ShareCount\"]] = (df_basic['ShareCount'] * row[\"Split\"]).round(6)"
   ]
  },
  {
   "cell_type": "code",
   "execution_count": 592,
   "metadata": {},
   "outputs": [],
   "source": [
    "# Get a valid pandas date\n",
    "def getDateFormat(day, month, year):\n",
    "    return f\"{year}-{month}-{day}\""
   ]
  },
  {
   "cell_type": "code",
   "execution_count": 593,
   "metadata": {},
   "outputs": [],
   "source": [
    "# Get the shares held on a given day\n",
    "def getDayPortfolio(day = pd.to_datetime(\"today\")):\n",
    "\n",
    "    # Get the buys and sells for each day before the given date\n",
    "    df_buysInRange = df_buys.loc[df_basic[\"Date\"] <= day, [\"Date\", \"Name\", \"ShareCount\"]]\n",
    "    df_sellsInRange = df_sells.loc[df_basic[\"Date\"] <= day, [\"Date\", \"Name\", \"ShareCount\"]]\n",
    "\n",
    "    # Any missing sells, i.e. any stock we've bought but not sold any of, need to still be in the resulting 'sell' df\n",
    "    df_emptySells = df_buysInRange.copy()\n",
    "    df_emptySells[\"ShareCount\"] = 0\n",
    "    df_sellsInRange = pd.concat([df_sellsInRange, df_emptySells])\n",
    "\n",
    "    # Aggregate to get total shares in and out\n",
    "    sharesIn = df_buysInRange.groupby('Name').agg({'ShareCount': 'sum'})['ShareCount'].reset_index()\n",
    "    sharesOut = df_sellsInRange.groupby('Name').agg({'ShareCount': 'sum'})['ShareCount'].reset_index()\n",
    "\n",
    "    # Format the aggregations\n",
    "    sharesIn.rename(columns={\"ShareCount\": \"SharesIn\"}, inplace=True)\n",
    "    sharesOut.rename(columns={\"ShareCount\": \"SharesOut\"}, inplace=True)\n",
    "    sharesOut.drop(columns=\"Name\", inplace=True)\n",
    "\n",
    "    # Calculate net shares\n",
    "    sharesTotal = pd.concat([sharesIn, sharesOut], axis=1)\n",
    "    sharesTotal[\"ShareCount\"] = (sharesTotal[\"SharesIn\"] - sharesTotal[\"SharesOut\"]).round(5)\n",
    "\n",
    "    # Format the portfolio\n",
    "    portfolio = sharesTotal.loc[sharesTotal[\"ShareCount\"] != 0]\n",
    "    portfolio = portfolio.drop(columns=[\"SharesIn\", \"SharesOut\"])\n",
    "\n",
    "    return portfolio"
   ]
  },
  {
   "cell_type": "code",
   "execution_count": 594,
   "metadata": {},
   "outputs": [],
   "source": [
    "#Split buys and sells into separate dataframes\n",
    "df_buys = df_basic.loc[df_basic[\"Type\"] == \"BUY\"]\n",
    "df_sells = df_basic.loc[df_basic[\"Type\"] == \"SELL\"]\n",
    "\n",
    "# A list of currently held tickers\n",
    "tickers_current = getDayPortfolio()[\"Name\"].explode().unique() \n"
   ]
  },
  {
   "cell_type": "code",
   "execution_count": 595,
   "metadata": {},
   "outputs": [],
   "source": [
    "# Import all closing prices for each ticker for the required date ranges\n",
    "df_closing_all = []\n",
    "\n",
    "for ticker in tickers_all:\n",
    "\n",
    "    df_closing_ticker = []\n",
    "\n",
    "    # Get the first transaction date for the ticker\n",
    "    date_first = pd.to_datetime(\"today\")\n",
    "    date_first = df_buys.loc[df_buys[\"Name\"] == ticker][\"Date\"].min()\n",
    "\n",
    "    # Get the last transaction date for the ticker, or the current date if it's still being held\n",
    "    date_last = pd.to_datetime(\"today\")\n",
    "    if ticker not in tickers_current:\n",
    "        date_last = df_sells.loc[df_sells[\"Name\"] == ticker][\"Date\"].max()\n",
    "\n",
    "    # Get the close prices for each day\n",
    "    # Yahoo has missing data for INRG. This isn't ideal but it's the best way to fix it - will need to manually download any mising data in future\n",
    "    if ticker == \"INRG.L\":\n",
    "        df_closing_ticker = pd.read_csv('./inputs/inrg.csv')\n",
    "    else:\n",
    "        df_closing_ticker = web.DataReader(ticker, 'yahoo', date_first, date_last)\n",
    "    \n",
    "\n",
    "    df_closing_ticker.drop(columns=[\"High\", \"Low\", \"Open\", \"Volume\", \"Adj Close\"], errors=\"ignore\", inplace=True)\n",
    "    df_closing_ticker[\"Name\"] = ticker\n",
    "    df_closing_all.append(df_closing_ticker.reset_index())\n",
    "\n",
    "\n",
    "df_closing_all = pd.concat(df_closing_all)\n",
    "df_closing_all.drop(columns=[\"index\"], inplace=True)"
   ]
  },
  {
   "cell_type": "code",
   "execution_count": 596,
   "metadata": {},
   "outputs": [],
   "source": [
    "# Get daily portfolio value between two dates\n",
    "\n",
    "dates = []\n",
    "values = []\n",
    "\n",
    "currentDate = df_buys[\"Date\"].min()\n",
    "\n",
    "endDate = pd.to_datetime(\"today\")\n",
    "endDate = endDate.replace(hour=0, minute=0, second=0, microsecond=0)\n",
    "\n",
    "while currentDate != endDate:\n",
    "    df_portfolio = getDayPortfolio(currentDate)\n",
    "    df_relevantClosing = df_closing_all.loc[df_closing_all[\"Date\"] == currentDate]\n",
    "\n",
    "    df_portfolio = pd.merge(df_portfolio, df_relevantClosing, on=\"Name\")\n",
    "    df_portfolio[\"Value\"] = df_portfolio[\"ShareCount\"] * df_portfolio[\"Close\"]\n",
    "\n",
    "    dates.append(currentDate)\n",
    "    values.append(df_portfolio[\"Value\"].sum())\n",
    "\n",
    "    currentDate = currentDate + timedelta(days=1)\n",
    "\n",
    "df_dailyValue = pd.DataFrame(list(zip(dates, values)),columns =['Date', 'Value'])"
   ]
  },
  {
   "cell_type": "code",
   "execution_count": 597,
   "metadata": {},
   "outputs": [],
   "source": [
    "# Generate a daily summary table using the 'other' dataframe initially\n",
    "df_dailyActivity = pd.pivot_table(\n",
    "    df_other, \n",
    "    values=\"Value\", \n",
    "    index=\"Date\", \n",
    "    columns=\"Type\", \n",
    "    aggfunc=np.sum).fillna(0)\n",
    "\n",
    "# Convert buys and sells to same format as daily summary\n",
    "df_basicPivot = pd.pivot_table(\n",
    "    pd.concat([df_buys[[\"Date\", \"Type\", \"Value\"]], df_sells[[\"Date\", \"Type\", \"Value\"]]]), \n",
    "    values=\"Value\", index=\"Date\", \n",
    "    columns=\"Type\", \n",
    "    aggfunc=np.sum\n",
    ").fillna(0)\n",
    "\n",
    "# pivot dividend table\n",
    "df_diviPivot = pd.pivot_table(\n",
    "    df_dividend, \n",
    "    values=\"Value\", index=\"Date\",  \n",
    "    aggfunc=np.sum\n",
    ").fillna(0)\n",
    "\n",
    "# Concatenate daily summary with buys, sells, and dividends\n",
    "df_dailyActivity = pd.concat([df_dailyActivity, df_basicPivot, df_diviPivot], axis=1).fillna(0)\n",
    "\n",
    "# Format daily summary\n",
    "df_dailyActivity = df_dailyActivity.rename(columns={\"BUY\": \"Total Bought\", \"SELL\": \"Total Sold\"})\n",
    "df_dailyActivity['Net Income']= df_dailyActivity.sum(axis=1)\n",
    "df_dailyActivity = df_dailyActivity.reset_index()"
   ]
  },
  {
   "cell_type": "code",
   "execution_count": 598,
   "metadata": {},
   "outputs": [],
   "source": [
    "df_dailyActivity.to_csv('./outputs/dailyActivity.csv', index=False)\n",
    "df_dailyValue.to_csv('./outputs/dailyValue.csv', index=False)"
   ]
  }
 ],
 "metadata": {
  "interpreter": {
   "hash": "a4a9e946ce7c4b8d35badcf5a2498e69f24bdc9c87fade20a954672ebcd777e7"
  },
  "kernelspec": {
   "display_name": "Python 3.8.10 64-bit (windows store)",
   "name": "python3"
  },
  "language_info": {
   "codemirror_mode": {
    "name": "ipython",
    "version": 3
   },
   "file_extension": ".py",
   "mimetype": "text/x-python",
   "name": "python",
   "nbconvert_exporter": "python",
   "pygments_lexer": "ipython3",
   "version": "3.8.10"
  },
  "orig_nbformat": 4
 },
 "nbformat": 4,
 "nbformat_minor": 2
}
