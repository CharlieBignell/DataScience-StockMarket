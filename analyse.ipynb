{
 "cells": [
  {
   "cell_type": "code",
   "execution_count": 28,
   "metadata": {},
   "outputs": [],
   "source": [
    "import pandas as pd\n",
    "import numpy as np\n",
    "import yfinance as yf\n",
    "\n",
    "# Get the data\n",
    "df_basic = pd.read_csv('./cleaned/basic.csv')\n",
    "df_other = pd.read_csv('./cleaned/other.csv')\n",
    "df_dividend = pd.read_csv('./cleaned/dividend.csv')"
   ]
  },
  {
   "cell_type": "code",
   "execution_count": 29,
   "metadata": {},
   "outputs": [],
   "source": [
    "# Format date fields\n",
    "df_basic['Date'] = pd.to_datetime(df_basic['Date'])\n",
    "df_other['Date'] = pd.to_datetime(df_other['Date'])\n",
    "df_dividend['Date'] = pd.to_datetime(df_dividend['Date'])"
   ]
  },
  {
   "cell_type": "code",
   "execution_count": 30,
   "metadata": {},
   "outputs": [],
   "source": [
    "# Account for stock splits\n",
    "\n",
    "tickers_all = df_basic['Name'].unique()\n",
    "allSplits = []\n",
    "\n",
    "for ticker in tickers_all:\n",
    "\n",
    "    # Get the split and convert to a df\n",
    "    splits = yf.Ticker(ticker).splits\n",
    "    df_split = pd.DataFrame({'Date':splits.index, 'Split':splits.values})\n",
    "    df_split[\"Name\"] = ticker\n",
    "\n",
    "    # If there was a split, append the df to allSplits. The ignoring of PFE is a quirk with a spin off they did with Viatris in 2020. This is a bad fix but it'll do for now\n",
    "    if len(df_split.index) != 0 and ticker != \"PFE\":\n",
    "        allSplits.append(df_split)\n",
    "\n",
    "allSplits = pd.concat(allSplits)\n",
    "\n",
    "# Iterate through splits and alter share counts as necessary\n",
    "for index, row in allSplits.iterrows():\n",
    "    df_basic.loc[(df_basic[\"Name\"] == row[\"Name\"]) & (df_basic[\"Date\"] < row[\"Date\"]), [\"ShareCount\"]] = (df_basic['ShareCount'] * row[\"Split\"]).round(6)"
   ]
  },
  {
   "cell_type": "code",
   "execution_count": 32,
   "metadata": {},
   "outputs": [],
   "source": [
    "# Get the shares held on a given day\n",
    "def getShareCount(day = pd.to_datetime(\"today\")):\n",
    "\n",
    "    # Get the buys and sells for each day before the given date\n",
    "    df_buysInRange = df_buys.loc[df_basic[\"Date\"] < day, [\"Date\", \"Name\", \"ShareCount\"]]\n",
    "    df_sellsInRange = df_sells.loc[df_basic[\"Date\"] < day, [\"Date\", \"Name\", \"ShareCount\"]]\n",
    "\n",
    "    # Any missing sells, i.e. any stock we've bought but not sold any of, need to still be in the resulting 'sell' df\n",
    "    df_emptySells = df_buysInRange.copy()\n",
    "    df_emptySells[\"ShareCount\"] = 0\n",
    "    df_sellsInRange = pd.concat([df_sellsInRange, df_emptySells])\n",
    "\n",
    "    # Aggregate to get total shares in and out\n",
    "    sharesIn = df_buysInRange.groupby('Name').agg({'ShareCount': 'sum'})['ShareCount']\n",
    "    sharesOut = df_sellsInRange.groupby('Name').agg({'ShareCount': 'sum'})['ShareCount']\n",
    "\n",
    "    # Calculate net shares\n",
    "    netShares_all = (sharesIn - sharesOut).round(5).to_frame(name=\"ShareCount\")\n",
    "    netShares = netShares_all.loc[netShares_all[\"ShareCount\"] != 0]\n",
    "\n",
    "    return netShares"
   ]
  },
  {
   "cell_type": "code",
   "execution_count": 31,
   "metadata": {},
   "outputs": [],
   "source": [
    "# Get the value of a list of shares on a given date (E.O.D). \n",
    "# Essentially just adds a 'value' column to the shares input df\n",
    "def getValue(shares, date):\n",
    "    print(\"Getting values of \")\n",
    "    print(shares)\n",
    "    print(\"On \")\n",
    "    print(date)\n",
    "    print(\"----------------\") "
   ]
  },
  {
   "cell_type": "code",
   "execution_count": 33,
   "metadata": {},
   "outputs": [],
   "source": [
    "#Split buys and sells into separate dataframes\n",
    "df_buys = df_basic.loc[df_basic[\"Type\"] == \"BUY\"]\n",
    "df_sells = df_basic.loc[df_basic[\"Type\"] == \"SELL\"]\n",
    "\n",
    "# A list of currently held tickers\n",
    "tickers_current = getShareCount().index.values.tolist()"
   ]
  },
  {
   "cell_type": "code",
   "execution_count": 34,
   "metadata": {},
   "outputs": [],
   "source": [
    "# Generate a daily summary table using the 'other' dataframe initially\n",
    "df_dailyActivity = pd.pivot_table(\n",
    "    df_other, \n",
    "    values=\"Value\", \n",
    "    index=\"Date\", \n",
    "    columns=\"Type\", \n",
    "    aggfunc=np.sum).fillna(0)\n",
    "\n",
    "# Convert buys and sells to same format as daily summary\n",
    "df_basicPivot = pd.pivot_table(\n",
    "    pd.concat([df_buys[[\"Date\", \"Type\", \"Value\"]], df_sells[[\"Date\", \"Type\", \"Value\"]]]), \n",
    "    values=\"Value\", index=\"Date\", \n",
    "    columns=\"Type\", \n",
    "    aggfunc=np.sum\n",
    ").fillna(0)\n",
    "\n",
    "# pivot dividend table\n",
    "df_diviPivot = pd.pivot_table(\n",
    "    df_dividend, \n",
    "    values=\"Value\", index=\"Date\",  \n",
    "    aggfunc=np.sum\n",
    ").fillna(0)\n",
    "\n",
    "# Concatenate daily summary with buys, sells, and dividends\n",
    "df_dailyActivity = pd.concat([df_dailyActivity, df_basicPivot, df_diviPivot], axis=1).fillna(0)\n",
    "\n",
    "# Format daily summary\n",
    "df_dailyActivity = df_dailyActivity.rename(columns={\"BUY\": \"Total Bought\", \"SELL\": \"Total Sold\"})\n",
    "df_dailyActivity['Net Income']= df_dailyActivity.sum(axis=1)\n",
    "df_dailyActivity = df_dailyActivity.reset_index()"
   ]
  },
  {
   "cell_type": "code",
   "execution_count": 35,
   "metadata": {},
   "outputs": [
    {
     "name": "stdout",
     "output_type": "stream",
     "text": [
      "0.49000000000023647\n"
     ]
    }
   ],
   "source": [
    "# Get daily portfolio value\n",
    "\n",
    "# From first transaction date -> now, call getValue() inputting each date with getShaereCount() for that date"
   ]
  },
  {
   "cell_type": "code",
   "execution_count": 36,
   "metadata": {},
   "outputs": [],
   "source": [
    "df_dailyActivity.to_csv('./outputs/dailyActivity.csv', index=False)"
   ]
  }
 ],
 "metadata": {
  "interpreter": {
   "hash": "a4a9e946ce7c4b8d35badcf5a2498e69f24bdc9c87fade20a954672ebcd777e7"
  },
  "kernelspec": {
   "display_name": "Python 3.8.10 64-bit (windows store)",
   "name": "python3"
  },
  "language_info": {
   "codemirror_mode": {
    "name": "ipython",
    "version": 3
   },
   "file_extension": ".py",
   "mimetype": "text/x-python",
   "name": "python",
   "nbconvert_exporter": "python",
   "pygments_lexer": "ipython3",
   "version": "3.8.10"
  },
  "orig_nbformat": 4
 },
 "nbformat": 4,
 "nbformat_minor": 2
}
