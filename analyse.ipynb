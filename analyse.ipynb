{
 "cells": [
  {
   "cell_type": "code",
   "execution_count": 1,
   "metadata": {},
   "outputs": [],
   "source": [
    "import pandas as pd\n",
    "import numpy as np\n",
    "import yfinance as yf\n",
    "pd.options.mode.chained_assignment = None  # default='warn'\n",
    "\n",
    "from pandas_datareader import data as web # Reads stock data \n",
    "import matplotlib.pyplot as plt # Plotting\n",
    "# import matplotlib.dates as mdates # Styling dates\n",
    "# import mplfinance as mpf # Matplotlib finance\n",
    "from datetime import timedelta\n",
    "\n",
    "# Get the data\n",
    "df_basic = pd.read_csv('./cleaned/basic.csv')\n",
    "df_other = pd.read_csv('./cleaned/other.csv')\n",
    "df_dividend = pd.read_csv('./cleaned/dividend.csv')"
   ]
  },
  {
   "cell_type": "code",
   "execution_count": 2,
   "metadata": {},
   "outputs": [],
   "source": [
    "# Format date fields\n",
    "df_basic['Date'] = pd.to_datetime(df_basic['Date'])\n",
    "df_other['Date'] = pd.to_datetime(df_other['Date'])\n",
    "df_dividend['Date'] = pd.to_datetime(df_dividend['Date'])"
   ]
  },
  {
   "cell_type": "code",
   "execution_count": 3,
   "metadata": {},
   "outputs": [],
   "source": [
    "# Account for stock splits\n",
    "\n",
    "tickers_all = df_basic['Name'].unique()\n",
    "allSplits = []\n",
    "\n",
    "for ticker in tickers_all:\n",
    "\n",
    "    # Get the split and convert to a df\n",
    "    splits = yf.Ticker(ticker).splits\n",
    "\n",
    "    df_split = []\n",
    "\n",
    "    # If there was a split, append the df to allSplits. The ignoring of PFE is a quirk with a spin off they did with Viatris in 2020. This is a bad fix but it'll do for now\n",
    "    if len(splits) != 0 and ticker != \"PFE\" and ticker != \"INRG.L\":\n",
    "        df_split = pd.DataFrame({'Date':splits.index, 'Split':splits.values})\n",
    "        df_split[\"Name\"] = ticker\n",
    "        allSplits.append(df_split)\n",
    "\n",
    "allSplits = pd.concat(allSplits)\n",
    "\n",
    "# Iterate through splits and alter share counts as necessary\n",
    "for index, row in allSplits.iterrows():\n",
    "    df_basic.loc[(df_basic[\"Name\"] == row[\"Name\"]) & (df_basic[\"Date\"] < row[\"Date\"]), [\"ShareCount\"]] = (df_basic['ShareCount'] * row[\"Split\"]).round(6)"
   ]
  },
  {
   "cell_type": "code",
   "execution_count": 4,
   "metadata": {},
   "outputs": [],
   "source": [
    "# Get a valid pandas date\n",
    "def getDateFormat(day, month, year):\n",
    "    return pd.to_datetime(f\"{year}-{month}-{day}\")"
   ]
  },
  {
   "cell_type": "code",
   "execution_count": 5,
   "metadata": {},
   "outputs": [],
   "source": [
    "# Get the shares held on a given day\n",
    "def getDayPortfolio(day = pd.to_datetime(\"today\")):\n",
    "\n",
    "    # Get the buys and sells for each day before the given date\n",
    "    df_buysInRange = df_buys.loc[df_basic[\"Date\"] <= day, [\"Date\", \"Name\", \"ShareCount\"]]\n",
    "    df_sellsInRange = df_sells.loc[df_basic[\"Date\"] <= day, [\"Date\", \"Name\", \"ShareCount\"]]\n",
    "\n",
    "    # Any missing sells, i.e. any stock we've bought but not sold any of, need to still be in the resulting 'sell' df\n",
    "    df_emptySells = df_buysInRange.copy()\n",
    "    df_emptySells[\"ShareCount\"] = 0\n",
    "    df_sellsInRange = pd.concat([df_sellsInRange, df_emptySells])\n",
    "\n",
    "    # Aggregate to get total shares in and out\n",
    "    sharesIn = df_buysInRange.groupby('Name').agg({'ShareCount': 'sum'})['ShareCount'].reset_index()\n",
    "    sharesOut = df_sellsInRange.groupby('Name').agg({'ShareCount': 'sum'})['ShareCount'].reset_index()\n",
    "\n",
    "    # Format the aggregations\n",
    "    sharesIn.rename(columns={\"ShareCount\": \"SharesIn\"}, inplace=True)\n",
    "    sharesOut.rename(columns={\"ShareCount\": \"SharesOut\"}, inplace=True)\n",
    "    sharesOut.drop(columns=\"Name\", inplace=True)\n",
    "\n",
    "    # Calculate net shares\n",
    "    sharesTotal = pd.concat([sharesIn, sharesOut], axis=1)\n",
    "    sharesTotal[\"ShareCount\"] = (sharesTotal[\"SharesIn\"] - sharesTotal[\"SharesOut\"]).round(5)\n",
    "\n",
    "    # Format the portfolio\n",
    "    portfolio = sharesTotal.loc[sharesTotal[\"ShareCount\"] != 0]\n",
    "    portfolio = portfolio.drop(columns=[\"SharesIn\", \"SharesOut\"])\n",
    "\n",
    "    return portfolio"
   ]
  },
  {
   "cell_type": "code",
   "execution_count": 6,
   "metadata": {},
   "outputs": [],
   "source": [
    "#Split buys and sells into separate dataframes\n",
    "df_buys = df_basic.loc[df_basic[\"Type\"] == \"BUY\"]\n",
    "df_sells = df_basic.loc[df_basic[\"Type\"] == \"SELL\"]\n",
    "\n",
    "# A list of currently held tickers\n",
    "tickers_current = getDayPortfolio()[\"Name\"].explode().unique() \n",
    "\n",
    "# A list of all tickers with their currency\n",
    "tickers_currency = df_buys[[\"Name\", \"Currency\"]].drop_duplicates().reset_index(drop=True)"
   ]
  },
  {
   "cell_type": "code",
   "execution_count": 7,
   "metadata": {},
   "outputs": [],
   "source": [
    "# Get any necessary exchange rates\n",
    "df_exchange_USDGBP = web.DataReader(\"GBPUSD=X\", 'yahoo', df_buys[\"Date\"].min(), pd.to_datetime(\"today\"))\n",
    "df_exchange_USDGBP.drop(columns=[\"High\", \"Low\", \"Open\", \"Volume\", \"Adj Close\"], inplace=True)\n",
    "df_exchange_USDGBP = df_exchange_USDGBP.reset_index()\n",
    "\n",
    "# Get the first and last date\n",
    "currentDate_fx = df_exchange_USDGBP[\"Date\"].min()\n",
    "lastDate_fx = pd.to_datetime(\"today\")\n",
    "lastDate_fx = lastDate_fx.replace(hour=0, minute=0, second=0, microsecond=0)\n",
    "\n",
    "# Iterate through each day\n",
    "while currentDate_fx != lastDate_fx:\n",
    "    dayCounter_fx = 1\n",
    "\n",
    "    # If the current day doesn't have an exchnage rate entry\n",
    "    while len(df_exchange_USDGBP.loc[df_exchange_USDGBP[\"Date\"] == currentDate_fx]) == 0:\n",
    "\n",
    "        # Get the previous days entry\n",
    "        prevDate_fx = currentDate_fx - timedelta(days=dayCounter_fx)\n",
    "        df_previousFx = df_exchange_USDGBP.loc[df_exchange_USDGBP[\"Date\"] == prevDate_fx]\n",
    "        df_previousFx[\"Date\"] = currentDate_fx\n",
    "\n",
    "        # Add this entry to the exchange rate df\n",
    "        df_exchange_USDGBP = df_exchange_USDGBP.append(df_previousFx, ignore_index=True)\n",
    "        dayCounter_fx = dayCounter_fx + 1\n",
    "\n",
    "    currentDate_fx = currentDate_fx + timedelta(days=1)\n",
    "\n",
    "# Rename the Close column to avoid confusion in the next cell...\n",
    "df_exchange_USDGBP = df_exchange_USDGBP.rename(columns={\"Close\": \"Rate\"})\n"
   ]
  },
  {
   "cell_type": "code",
   "execution_count": 8,
   "metadata": {},
   "outputs": [],
   "source": [
    "# Import all closing prices for each ticker for the required date ranges\n",
    "df_closing_all = []\n",
    "\n",
    "for ticker in tickers_all:\n",
    "\n",
    "    df_closing_ticker = []\n",
    "\n",
    "    # Get the first transaction date for the ticker\n",
    "    date_first = pd.to_datetime(\"today\")\n",
    "    date_first = df_buys.loc[df_buys[\"Name\"] == ticker][\"Date\"].min()\n",
    "\n",
    "    # Get the last transaction date for the ticker, or the current date if it's still being held\n",
    "    date_last = pd.to_datetime(\"today\")\n",
    "    if ticker not in tickers_current:\n",
    "        date_last = df_sells.loc[df_sells[\"Name\"] == ticker][\"Date\"].max()\n",
    "    \n",
    "    # Get the close prices for each day\n",
    "    # Yahoo has missing data for INRG. This isn't ideal but it's the best way to fix it - will need to manually download any mising data in future\n",
    "    if ticker == \"INRG.L\":\n",
    "        df_closing_ticker = pd.read_csv('./inputs/inrg.csv')\n",
    "        df_closing_ticker[\"Date\"] = pd.to_datetime(df_closing_ticker[\"Date\"])\n",
    "    else:\n",
    "        df_closing_ticker = web.DataReader(ticker, 'yahoo', date_first, date_last)    \n",
    "\n",
    "    # Format the df\n",
    "    df_closing_ticker.drop(columns=[\"High\", \"Low\", \"Open\", \"Volume\", \"Adj Close\"], errors=\"ignore\", inplace=True)\n",
    "    df_closing_ticker[\"Name\"] = ticker\n",
    "\n",
    "    # Get the currency for the current ticker\n",
    "    tickerCurrency = tickers_currency.loc[tickers_currency[\"Name\"] == ticker, \"Currency\"].values[0]\n",
    "\n",
    "    # If it's USD, divide by the exchange rate for the relevant day\n",
    "    if tickerCurrency == \"USD\":\n",
    "        df_closing_ticker = pd.merge(df_closing_ticker, df_exchange_USDGBP, how=\"left\", on=\"Date\")\n",
    "        df_closing_ticker[\"Close\"] = df_closing_ticker[\"Close\"]/df_closing_ticker[\"Rate\"]\n",
    "        df_closing_ticker.drop(columns=[\"Rate\"], inplace=True)\n",
    "\n",
    "    # If it's GBp, divide by 100 to convert to £\n",
    "    elif tickerCurrency == \"GBP\":\n",
    "        df_closing_ticker[\"Close\"] = df_closing_ticker[\"Close\"]/100\n",
    "    else:\n",
    "        print(\"ERROR: Unidentified Currency - \", ticker)\n",
    "    \n",
    "    df_closing_all.append(df_closing_ticker.reset_index())\n",
    "\n",
    "# Concatenate all data\n",
    "df_closing_all = pd.concat(df_closing_all)\n",
    "df_closing_all.drop(columns=[\"index\"], inplace=True)"
   ]
  },
  {
   "cell_type": "code",
   "execution_count": 9,
   "metadata": {},
   "outputs": [],
   "source": [
    "# Get daily portfolio value\n",
    "dates = []\n",
    "values = []\n",
    "\n",
    "currentDate = df_buys[\"Date\"].min()\n",
    "\n",
    "endDate = pd.to_datetime(\"today\")\n",
    "endDate = endDate.replace(hour=0, minute=0, second=0, microsecond=0)\n",
    "\n",
    "# Move day-by-day from the first date to now\n",
    "while currentDate != endDate:\n",
    "\n",
    "    # Get the portoflio of holdings for this date\n",
    "    df_portfolio = getDayPortfolio(currentDate)\n",
    "\n",
    "    # Get the closing prices for this day\n",
    "    df_relevantClosing = df_closing_all.loc[df_closing_all[\"Date\"] == currentDate]\n",
    "\n",
    "    # Get all tickers for this day\n",
    "    tickers = df_portfolio[\"Name\"].values.tolist()\n",
    "\n",
    "    # Loop through the tickers that we havent managed to extract closing data from, and keep checking the previous day until we get a value\n",
    "    for t in tickers:        \n",
    "        dayCounter = 1\n",
    "        while t not in df_relevantClosing.values:\n",
    "            prevDay = currentDate - timedelta(days=dayCounter)\n",
    "            df_previousClosing = df_closing_all.loc[(df_closing_all[\"Date\"] == prevDay) & (df_closing_all[\"Name\"] == t)]\n",
    "            df_relevantClosing = df_relevantClosing.append(df_previousClosing, ignore_index=True)\n",
    "            dayCounter = dayCounter + 1\n",
    "\n",
    "    # Merge these together, and calculate the value of each stock    \n",
    "    df_portfolio = pd.merge(df_portfolio, df_relevantClosing, on=\"Name\")\n",
    "    df_portfolio[\"Value\"] = df_portfolio[\"ShareCount\"] * df_portfolio[\"Close\"]\n",
    "    \n",
    "    dates.append(currentDate)\n",
    "    values.append(df_portfolio[\"Value\"].sum())\n",
    "\n",
    "    currentDate = currentDate + timedelta(days=1)\n",
    "        \n",
    "df_dailyValue = pd.DataFrame(list(zip(dates, values)),columns =['Date', 'Value'])\n",
    "df_dailyValue = df_dailyValue[df_dailyValue[\"Value\"] != 0]"
   ]
  },
  {
   "cell_type": "code",
   "execution_count": 10,
   "metadata": {},
   "outputs": [],
   "source": [
    "# Get daily portfolio value\n",
    "dates = []\n",
    "values = []\n",
    "\n",
    "currentDate = getDateFormat(26,11,2020)\n",
    "\n",
    "# Get the portoflio of holdings for this date\n",
    "df_portfolio = getDayPortfolio(currentDate)\n",
    "\n",
    "# Get the closing prices for this day\n",
    "df_relevantClosing = df_closing_all.loc[df_closing_all[\"Date\"] == currentDate]\n",
    "\n",
    "# Merge these together, and calculate the value of each stock    \n",
    "df_portfolio = pd.merge(df_portfolio, df_relevantClosing, on=\"Name\")\n",
    "df_portfolio[\"Value\"] = df_portfolio[\"ShareCount\"] * df_portfolio[\"Close\"]"
   ]
  },
  {
   "cell_type": "code",
   "execution_count": 15,
   "metadata": {},
   "outputs": [
    {
     "name": "stdout",
     "output_type": "stream",
     "text": [
      "4812.171395010804\n"
     ]
    }
   ],
   "source": [
    "# Generate a daily summary table using the 'other' dataframe initially\n",
    "df_dailyActivity = pd.pivot_table(\n",
    "    df_other, \n",
    "    values=\"Value\", \n",
    "    index=\"Date\", \n",
    "    columns=\"Type\", \n",
    "    aggfunc=np.sum).fillna(0)\n",
    "\n",
    "# Convert buys and sells to same format as daily summary\n",
    "df_basicPivot = pd.pivot_table(\n",
    "    pd.concat([df_buys[[\"Date\", \"Type\", \"Value\"]], df_sells[[\"Date\", \"Type\", \"Value\"]]]), \n",
    "    values=\"Value\", index=\"Date\", \n",
    "    columns=\"Type\", \n",
    "    aggfunc=np.sum\n",
    ").fillna(0)\n",
    "\n",
    "# pivot dividend table\n",
    "df_diviPivot = pd.pivot_table(\n",
    "    df_dividend, \n",
    "    values=\"Value\", index=\"Date\",  \n",
    "    aggfunc=np.sum\n",
    ").fillna(0)\n",
    "\n",
    "# Concatenate daily summary with buys, sells, and dividends\n",
    "df_dailyActivity = pd.concat([df_dailyActivity, df_basicPivot, df_diviPivot], axis=1).fillna(0)\n",
    "\n",
    "# Format daily summary\n",
    "df_dailyActivity = df_dailyActivity.rename(columns={\"BUY\": \"Total Bought\", \"SELL\": \"Total Sold\", \"Value\": \"Dividend\"})\n",
    "df_dailyActivity['Net Income']= df_dailyActivity.sum(axis=1)\n",
    "df_dailyActivity = df_dailyActivity.round(2)\n",
    "df_dailyActivity = df_dailyActivity.reset_index()"
   ]
  },
  {
   "cell_type": "code",
   "execution_count": 12,
   "metadata": {},
   "outputs": [
    {
     "data": {
      "text/plain": [
       "[<matplotlib.lines.Line2D at 0x18147740820>]"
      ]
     },
     "execution_count": 12,
     "metadata": {},
     "output_type": "execute_result"
    },
    {
     "data": {
      "image/png": "[encoded data removed]",
      "text/plain": [
       "<Figure size 432x288 with 1 Axes>"
      ]
     },
     "metadata": {
      "needs_background": "light"
     },
     "output_type": "display_data"
    }
   ],
   "source": [
    "plt.plot(df_dailyValue[\"Date\"], df_dailyValue[\"Value\"])"
   ]
  },
  {
   "cell_type": "code",
   "execution_count": 13,
   "metadata": {},
   "outputs": [],
   "source": [
    "df_dailyActivity.to_csv('./outputs/dailyActivity.csv', index=False)\n",
    "df_dailyValue.to_csv('./outputs/dailyValue.csv', index=False)\n",
    "df_closing_all.to_csv('./outputs/dailyClose.csv', index=False)"
   ]
  }
 ],
 "metadata": {
  "interpreter": {
   "hash": "a4a9e946ce7c4b8d35badcf5a2498e69f24bdc9c87fade20a954672ebcd777e7"
  },
  "kernelspec": {
   "display_name": "Python 3.8.10 64-bit (windows store)",
   "name": "python3"
  },
  "language_info": {
   "codemirror_mode": {
    "name": "ipython",
    "version": 3
   },
   "file_extension": ".py",
   "mimetype": "text/x-python",
   "name": "python",
   "nbconvert_exporter": "python",
   "pygments_lexer": "ipython3",
   "version": "3.8.10"
  },
  "orig_nbformat": 4
 },
 "nbformat": 4,
 "nbformat_minor": 2
}
